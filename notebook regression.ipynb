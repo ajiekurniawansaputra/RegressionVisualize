{
 "cells": [
  {
   "cell_type": "markdown",
   "metadata": {},
   "source": [
    "Simple Linear Regression"
   ]
  },
  {
   "cell_type": "code",
   "execution_count": 126,
   "metadata": {},
   "outputs": [],
   "source": [
    "from matplotlib import pyplot as plt\n",
    "import numpy as np\n",
    "import time"
   ]
  },
  {
   "cell_type": "markdown",
   "metadata": {},
   "source": [
    "Plot the dataset"
   ]
  },
  {
   "cell_type": "code",
   "execution_count": 127,
   "metadata": {},
   "outputs": [
    {
     "data": {
      "text/plain": [
       "<matplotlib.collections.PathCollection at 0x1843f0df6a0>"
      ]
     },
     "execution_count": 127,
     "metadata": {},
     "output_type": "execute_result"
    },
    {
     "data": {
      "image/png": "[encoded data removed]",
      "text/plain": [
       "<Figure size 432x288 with 1 Axes>"
      ]
     },
     "metadata": {
      "needs_background": "light"
     },
     "output_type": "display_data"
    }
   ],
   "source": [
    "X = np.array(range(5))\n",
    "y = np.array(range(-1,8,2))\n",
    "plt.scatter(X,y)"
   ]
  },
  {
   "cell_type": "markdown",
   "metadata": {},
   "source": [
    "Cost Function"
   ]
  },
  {
   "cell_type": "code",
   "execution_count": 128,
   "metadata": {},
   "outputs": [],
   "source": [
    "def costLinearRegression(X, y, theta):\n",
    "    m = len(y)\n",
    "    J = np.dot(X,theta)\n",
    "    J = np.subtract(J, y)\n",
    "    J = np.power(J,2)\n",
    "    J = np.sum(J)\n",
    "    J = J/(2*m)\n",
    "    return J"
   ]
  },
  {
   "cell_type": "markdown",
   "metadata": {},
   "source": [
    "Random linear equation with theta = [1, 1]"
   ]
  },
  {
   "cell_type": "code",
   "execution_count": 129,
   "metadata": {},
   "outputs": [
    {
     "data": {
      "text/plain": [
       "[<matplotlib.lines.Line2D at 0x1843f143940>]"
      ]
     },
     "execution_count": 129,
     "metadata": {},
     "output_type": "execute_result"
    },
    {
     "data": {
      "image/png": "[encoded data removed]",
      "text/plain": [
       "<Figure size 432x288 with 1 Axes>"
      ]
     },
     "metadata": {
      "needs_background": "light"
     },
     "output_type": "display_data"
    }
   ],
   "source": [
    "#data\n",
    "X = np.array(range(5))\n",
    "y = np.array(range(-1,8,2))\n",
    "plt.scatter(X,y)\n",
    "\n",
    "#line\n",
    "theta = np.array([1,1])\n",
    "A = np.linspace(0,4)\n",
    "B = theta[0]+theta[1]*A\n",
    "plt.plot(A,B)"
   ]
  },
  {
   "cell_type": "markdown",
   "metadata": {},
   "source": [
    "Calculate Cost for theta = [1, 1]"
   ]
  },
  {
   "cell_type": "code",
   "execution_count": 130,
   "metadata": {},
   "outputs": [
    {
     "name": "stdout",
     "output_type": "stream",
     "text": [
      "1.0\n"
     ]
    }
   ],
   "source": [
    "#add new collom to use bias\n",
    "X = np.array(range(5))\n",
    "X = np.stack((np.ones(5), X), axis=1)\n",
    "y = np.array(range(-1,8,2))\n",
    "Cost = costLinearRegression(X,y, theta)\n",
    "print(Cost)"
   ]
  },
  {
   "cell_type": "markdown",
   "metadata": {},
   "source": [
    "Gradient Decent"
   ]
  },
  {
   "cell_type": "code",
   "execution_count": 144,
   "metadata": {},
   "outputs": [],
   "source": [
    "def decent(X, y, theta, alpha, iteration):\n",
    "    cost = [] #save cost every iteration\n",
    "    feature = len(X[0]) #number of feature\n",
    "    temp = np.zeros(feature) #save new theta temporary\n",
    "    m = len(y) #number of dataset\n",
    "    for i in range(iteration):\n",
    "        plt.clf\n",
    "        for n in range(feature):\n",
    "            J = np.dot(X,theta)\n",
    "            J = np.subtract(J,y)\n",
    "            J = np.vdot(J, X[:,n])\n",
    "            J = (alpha * (1/m) * J)\n",
    "            temp[n] = theta[n] - J\n",
    "        for n in range(feature):\n",
    "            theta[n] = temp[n]\n",
    "        \n",
    "        ##for graph\n",
    "        #A = np.linspace(0,4)\n",
    "        #B = theta[0]+theta[1]*A\n",
    "        #plt.scatter(X[:,1],y)\n",
    "        #plt.plot(A,B)\n",
    "        #plt.draw()\n",
    "        #plt.pause(0.05)\n",
    "        #plt.clf()\n",
    "\n",
    "        ##for cost\n",
    "        Cost = costLinearRegression(X,y, theta)\n",
    "        cost.append(Cost)\n",
    "    A = np.array(range(len(cost)))\n",
    "    plt.plot(A,cost)\n",
    "    print(Cost)\n",
    "    return theta      \n",
    "        "
   ]
  },
  {
   "cell_type": "code",
   "execution_count": 145,
   "metadata": {},
   "outputs": [
    {
     "name": "stdout",
     "output_type": "stream",
     "text": [
      "0.0017146836586119062\n",
      "[-0.8988464813923502, 1.964517261584998]\n"
     ]
    },
    {
     "data": {
      "image/png": "[encoded data removed]",
      "text/plain": [
       "<Figure size 432x288 with 1 Axes>"
      ]
     },
     "metadata": {
      "needs_background": "light"
     },
     "output_type": "display_data"
    }
   ],
   "source": [
    "X = np.array(range(5))\n",
    "X = np.stack((np.ones(5), X), axis=1)\n",
    "y = np.array(range(-1,8,2))\n",
    "\n",
    "#param\n",
    "alpha = 0.1\n",
    "iteration = 100\n",
    "theta = [1,1]\n",
    "\n",
    "theta = decent(X,y, theta, alpha, iteration)\n",
    "print(theta)"
   ]
  },
  {
   "cell_type": "markdown",
   "metadata": {},
   "source": [
    "Plot the line with new theta"
   ]
  },
  {
   "cell_type": "code",
   "execution_count": 133,
   "metadata": {},
   "outputs": [
    {
     "name": "stdout",
     "output_type": "stream",
     "text": [
      "[-0.8988464813923502, 1.964517261584998]\n"
     ]
    },
    {
     "data": {
      "image/png": "[encoded data removed]",
      "text/plain": [
       "<Figure size 432x288 with 1 Axes>"
      ]
     },
     "metadata": {
      "needs_background": "light"
     },
     "output_type": "display_data"
    }
   ],
   "source": [
    "#data\n",
    "X = np.array(range(5))\n",
    "y = np.array(range(-1,8,2))\n",
    "plt.scatter(X,y)\n",
    "\n",
    "#line\n",
    "#theta = np.array([-0.8988464813923502, 1.964517261584998])\n",
    "A = np.linspace(0,4)\n",
    "B = theta[0]+theta[1]*A\n",
    "plt.plot(A,B)\n",
    "print(theta)"
   ]
  },
  {
   "cell_type": "markdown",
   "metadata": {},
   "source": [
    "Implementation with non linear model"
   ]
  },
  {
   "cell_type": "code",
   "execution_count": 134,
   "metadata": {},
   "outputs": [
    {
     "data": {
      "text/plain": [
       "<matplotlib.collections.PathCollection at 0x1843f26f610>"
      ]
     },
     "execution_count": 134,
     "metadata": {},
     "output_type": "execute_result"
    },
    {
     "data": {
      "image/png": "[encoded data removed]",
      "text/plain": [
       "<Figure size 432x288 with 1 Axes>"
      ]
     },
     "metadata": {
      "needs_background": "light"
     },
     "output_type": "display_data"
    }
   ],
   "source": [
    "X = np.array(range(5))\n",
    "y = np.array(range(-1,8,2))\n",
    "y = (y*y) - y\n",
    "plt.scatter(X,y)"
   ]
  },
  {
   "cell_type": "code",
   "execution_count": 135,
   "metadata": {},
   "outputs": [
    {
     "name": "stdout",
     "output_type": "stream",
     "text": [
      "[0.8701068330503946, -4.5570890956243995, 3.687687955295505]\n"
     ]
    },
    {
     "data": {
      "image/png": "[encoded data removed]",
      "text/plain": [
       "<Figure size 432x288 with 1 Axes>"
      ]
     },
     "metadata": {
      "needs_background": "light"
     },
     "output_type": "display_data"
    }
   ],
   "source": [
    "X0 = np.ones(5)\n",
    "X1 = np.array(range(5))\n",
    "X2 = X1*X1\n",
    "\n",
    "X = np.stack((X0, X1, X2), axis=1)\n",
    "y = np.array(range(-1,8,2))\n",
    "y = (y*y) - y\n",
    "\n",
    "#param\n",
    "alpha = 0.02\n",
    "iteration = 600\n",
    "theta = [1,1,1]\n",
    "\n",
    "theta = decent(X,y, theta, alpha, iteration)\n",
    "print(theta)"
   ]
  },
  {
   "cell_type": "code",
   "execution_count": 136,
   "metadata": {},
   "outputs": [
    {
     "name": "stdout",
     "output_type": "stream",
     "text": [
      "0.18101493935209384\n"
     ]
    },
    {
     "data": {
      "text/plain": [
       "[<matplotlib.lines.Line2D at 0x1843f338af0>]"
      ]
     },
     "execution_count": 136,
     "metadata": {},
     "output_type": "execute_result"
    },
    {
     "data": {
      "image/png": "[encoded data removed]",
      "text/plain": [
       "<Figure size 432x288 with 1 Axes>"
      ]
     },
     "metadata": {
      "needs_background": "light"
     },
     "output_type": "display_data"
    }
   ],
   "source": [
    "#cost\n",
    "X0 = np.ones(5)\n",
    "X1 = np.array(range(5))\n",
    "X2 = X1*X1\n",
    "X = np.stack((X0, X1, X2), axis=1)\n",
    "y = np.array(range(-1,8,2))\n",
    "y = (y*y) - y\n",
    "print(costLinearRegression(X,y, theta))\n",
    "\n",
    "#data\n",
    "X = np.array(range(5))\n",
    "y = np.array(range(-1,8,2))\n",
    "y = (y*y) - y\n",
    "plt.scatter(X,y)\n",
    "\n",
    "#line\n",
    "#theta = np.array([-0.42754453546307153, -2.525736947239201, 3.222685718955656])\n",
    "A = np.linspace(0,4)\n",
    "B = theta[0] + theta[1]*A + theta[2]*A*A\n",
    "plt.plot(A,B)"
   ]
  },
  {
   "cell_type": "markdown",
   "metadata": {},
   "source": [
    "Implementation with sklearn"
   ]
  },
  {
   "cell_type": "code",
   "execution_count": 137,
   "metadata": {},
   "outputs": [
    {
     "name": "stdout",
     "output_type": "stream",
     "text": [
      "1.0 score\n",
      "[ 0. -6.  4.] coef\n"
     ]
    }
   ],
   "source": [
    "from sklearn.linear_model import LinearRegression\n",
    "\n",
    "X0 = np.ones(5)\n",
    "X1 = np.array(range(5))\n",
    "X2 = X1*X1\n",
    "X = np.stack((X0, X1, X2), axis=1)\n",
    "y = np.array(range(-1,8,2))\n",
    "y = (y*y) - y\n",
    "\n",
    "reg = LinearRegression().fit(X, y)\n",
    "\n",
    "print(reg.score(X, y), \"score\")\n",
    "print(reg.coef_, \"coef\")\n",
    "#reg.intercept_\n",
    "#reg.predict(np.array([[3, 5]]))\n"
   ]
  },
  {
   "cell_type": "code",
   "execution_count": 138,
   "metadata": {},
   "outputs": [
    {
     "name": "stdout",
     "output_type": "stream",
     "text": [
      "2.0\n"
     ]
    },
    {
     "data": {
      "text/plain": [
       "[<matplotlib.lines.Line2D at 0x1843f3a4250>]"
      ]
     },
     "execution_count": 138,
     "metadata": {},
     "output_type": "execute_result"
    },
    {
     "data": {
      "image/png": "[encoded data removed]",
      "text/plain": [
       "<Figure size 432x288 with 1 Axes>"
      ]
     },
     "metadata": {
      "needs_background": "light"
     },
     "output_type": "display_data"
    }
   ],
   "source": [
    "theta = [0,-6, 4]\n",
    "\n",
    "#cost\n",
    "X0 = np.ones(5)\n",
    "X1 = np.array(range(5))\n",
    "X2 = X1*X1\n",
    "X = np.stack((X0, X1, X2), axis=1)\n",
    "y = np.array(range(-1,8,2))\n",
    "y = (y*y) - y\n",
    "print(costLinearRegression(X,y, theta))\n",
    "\n",
    "#data\n",
    "X = np.array(range(5))\n",
    "y = np.array(range(-1,8,2))\n",
    "y = (y*y) - y\n",
    "plt.scatter(X,y)\n",
    "\n",
    "#line\n",
    "#theta = np.array([-0.42754453546307153, -2.525736947239201, 3.222685718955656])\n",
    "A = np.linspace(0,4)\n",
    "B = theta[0] + theta[1]*A + theta[2]*A*A\n",
    "plt.plot(A,B)"
   ]
  },
  {
   "cell_type": "markdown",
   "metadata": {},
   "source": [
    "DATASET"
   ]
  },
  {
   "cell_type": "code",
   "execution_count": 139,
   "metadata": {},
   "outputs": [],
   "source": [
    "from sklearn import datasets as ds"
   ]
  },
  {
   "cell_type": "code",
   "execution_count": 140,
   "metadata": {},
   "outputs": [],
   "source": [
    "A = ds.load_diabetes()"
   ]
  },
  {
   "cell_type": "code",
   "execution_count": 141,
   "metadata": {},
   "outputs": [
    {
     "name": "stdout",
     "output_type": "stream",
     "text": [
      ".. _diabetes_dataset:\n",
      "\n",
      "Diabetes dataset\n",
      "----------------\n",
      "\n",
      "Ten baseline variables, age, sex, body mass index, average blood\n",
      "pressure, and six blood serum measurements were obtained for each of n =\n",
      "442 diabetes patients, as well as the response of interest, a\n",
      "quantitative measure of disease progression one year after baseline.\n",
      "\n",
      "**Data Set Characteristics:**\n",
      "\n",
      "  :Number of Instances: 442\n",
      "\n",
      "  :Number of Attributes: First 10 columns are numeric predictive values\n",
      "\n",
      "  :Target: Column 11 is a quantitative measure of disease progression one year after baseline\n",
      "\n",
      "  :Attribute Information:\n",
      "      - age     age in years\n",
      "      - sex\n",
      "      - bmi     body mass index\n",
      "      - bp      average blood pressure\n",
      "      - s1      tc, T-Cells (a type of white blood cells)\n",
      "      - s2      ldl, low-density lipoproteins\n",
      "      - s3      hdl, high-density lipoproteins\n",
      "      - s4      tch, thyroid stimulating hormone\n",
      "      - s5      ltg, lamotrigine\n",
      "      - s6      glu, blood sugar level\n",
      "\n",
      "Note: Each of these 10 feature variables have been mean centered and scaled by the standard deviation times `n_samples` (i.e. the sum of squares of each column totals 1).\n",
      "\n",
      "Source URL:\n",
      "https://www4.stat.ncsu.edu/~boos/var.select/diabetes.html\n",
      "\n",
      "For more information see:\n",
      "Bradley Efron, Trevor Hastie, Iain Johnstone and Robert Tibshirani (2004) \"Least Angle Regression,\" Annals of Statistics (with discussion), 407-499.\n",
      "(https://web.stanford.edu/~hastie/Papers/LARS/LeastAngle_2002.pdf)\n"
     ]
    }
   ],
   "source": [
    "print(A['DESCR'])"
   ]
  },
  {
   "cell_type": "code",
   "execution_count": 142,
   "metadata": {},
   "outputs": [
    {
     "name": "stdout",
     "output_type": "stream",
     "text": [
      "['age', 'sex', 'bmi', 'bp', 's1', 's2', 's3', 's4', 's5', 's6']\n"
     ]
    }
   ],
   "source": [
    "print(A['feature_names'])"
   ]
  },
  {
   "cell_type": "code",
   "execution_count": 143,
   "metadata": {},
   "outputs": [],
   "source": [
    "#data already clean\n",
    "X = A['data']\n",
    "y = A['target']"
   ]
  }
 ],
 "metadata": {
  "colab": {
   "collapsed_sections": [],
   "name": "(4) [Jupyter - Coach] Module 16.ipynb",
   "provenance": []
  },
  "kernelspec": {
   "display_name": "Python 3",
   "language": "python",
   "name": "python3"
  },
  "language_info": {
   "codemirror_mode": {
    "name": "ipython",
    "version": 3
   },
   "file_extension": ".py",
   "mimetype": "text/x-python",
   "name": "python",
   "nbconvert_exporter": "python",
   "pygments_lexer": "ipython3",
   "version": "3.8.8"
  }
 },
 "nbformat": 4,
 "nbformat_minor": 1
}
